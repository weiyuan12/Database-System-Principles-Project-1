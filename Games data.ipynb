{
 "cells": [
  {
   "cell_type": "code",
   "execution_count": 1,
   "id": "fa6e9ac5",
   "metadata": {
    "scrolled": true
   },
   "outputs": [
    {
     "name": "stdout",
     "output_type": "stream",
     "text": [
      "  GAME_DATE_EST  TEAM_ID_home  PTS_home  FG_PCT_home  FT_PCT_home  \\\n",
      "0    22/12/2022    1610612740     126.0        0.484        0.926   \n",
      "1    22/12/2022    1610612762     120.0        0.488        0.952   \n",
      "2    21/12/2022    1610612739     114.0        0.482        0.786   \n",
      "3    21/12/2022    1610612755     113.0        0.441        0.909   \n",
      "4    21/12/2022    1610612737     108.0        0.429        1.000   \n",
      "\n",
      "   FG3_PCT_home  AST_home  REB_home  HOME_TEAM_WINS  \n",
      "0         0.382      25.0      46.0               1  \n",
      "1         0.457      16.0      40.0               1  \n",
      "2         0.313      22.0      37.0               1  \n",
      "3         0.297      27.0      49.0               1  \n",
      "4         0.378      22.0      47.0               0  \n"
     ]
    }
   ],
   "source": [
    "import pandas as pd\n",
    "\n",
    "\n",
    "data = pd.read_csv('data/games.txt', sep=\"\\t\", header=0)\n",
    "print(data.head(5))"
   ]
  },
  {
   "cell_type": "code",
   "execution_count": 2,
   "id": "da960c64",
   "metadata": {},
   "outputs": [
    {
     "name": "stdout",
     "output_type": "stream",
     "text": [
      "(26651, 9)\n"
     ]
    }
   ],
   "source": [
    "print(data.shape)"
   ]
  },
  {
   "cell_type": "code",
   "execution_count": 3,
   "id": "ca4032e0",
   "metadata": {},
   "outputs": [
    {
     "name": "stdout",
     "output_type": "stream",
     "text": [
      "GAME_DATE_EST      object\n",
      "TEAM_ID_home        int64\n",
      "PTS_home          float64\n",
      "FG_PCT_home       float64\n",
      "FT_PCT_home       float64\n",
      "FG3_PCT_home      float64\n",
      "AST_home          float64\n",
      "REB_home          float64\n",
      "HOME_TEAM_WINS      int64\n",
      "dtype: object\n"
     ]
    }
   ],
   "source": [
    "print(data.dtypes)"
   ]
  },
  {
   "cell_type": "code",
   "execution_count": 4,
   "id": "9f5de1f2",
   "metadata": {},
   "outputs": [
    {
     "name": "stdout",
     "output_type": "stream",
     "text": [
      "GAME_DATE_EST      0\n",
      "TEAM_ID_home       0\n",
      "PTS_home          99\n",
      "FG_PCT_home       99\n",
      "FT_PCT_home       99\n",
      "FG3_PCT_home      99\n",
      "AST_home          99\n",
      "REB_home          99\n",
      "HOME_TEAM_WINS     0\n",
      "dtype: int64\n"
     ]
    }
   ],
   "source": [
    "null_counts = data.isnull().sum()\n",
    "print(null_counts)"
   ]
  },
  {
   "cell_type": "code",
   "execution_count": 5,
   "id": "1c91ba74",
   "metadata": {},
   "outputs": [
    {
     "name": "stdout",
     "output_type": "stream",
     "text": [
      "Column GAME_DATE_EST: Range (1/1/2005, 9/9/2020)\n",
      "Column TEAM_ID_home: Range (1610612737, 1610612766)\n",
      "Column PTS_home: Range (36.0, 168.0)\n",
      "Column FG_PCT_home: Range (0.25, 0.684)\n",
      "Column FT_PCT_home: Range (0.143, 1.0)\n",
      "Column FG3_PCT_home: Range (0.0, 1.0)\n",
      "Column AST_home: Range (6.0, 50.0)\n",
      "Column REB_home: Range (15.0, 72.0)\n",
      "Column HOME_TEAM_WINS: Range (0, 1)\n"
     ]
    }
   ],
   "source": [
    "for column in data.columns:\n",
    "    column_min = data[column].min()\n",
    "    column_max = data[column].max()\n",
    "    print(f\"Column {column}: Range ({column_min}, {column_max})\")"
   ]
  },
  {
   "cell_type": "code",
   "execution_count": 6,
   "id": "7986583b",
   "metadata": {},
   "outputs": [
    {
     "name": "stdout",
     "output_type": "stream",
     "text": [
      "6902\n",
      "99\n"
     ]
    }
   ],
   "source": [
    "filtered_data = data[(data['FG_PCT_home'] >= 0.4999) & (data['FG_PCT_home'] <= 0.8001)]\n",
    "print(len(filtered_data))\n",
    "nan_fg_pct_home = data[data['FG_PCT_home'].isna()]\n",
    "print(len(nan_fg_pct_home))\n"
   ]
  },
  {
   "cell_type": "code",
   "execution_count": 7,
   "id": "e0613393",
   "metadata": {},
   "outputs": [
    {
     "name": "stdout",
     "output_type": "stream",
     "text": [
      "[0.25  0.257 0.266 0.269 0.274 0.275 0.277 0.278 0.279 0.282 0.283 0.284\n",
      " 0.286 0.288 0.289 0.29  0.291 0.292 0.293 0.294 0.295 0.296 0.297 0.298\n",
      " 0.299 0.3   0.301 0.302 0.303 0.304 0.305 0.306 0.307 0.308 0.309 0.31\n",
      " 0.311 0.312 0.313 0.314 0.315 0.316 0.317 0.318 0.319 0.32  0.321 0.322\n",
      " 0.323 0.324 0.325 0.326 0.327 0.328 0.329 0.33  0.333 0.337 0.338 0.339\n",
      " 0.34  0.341 0.342 0.343 0.344 0.345 0.346 0.347 0.348 0.349 0.35  0.351\n",
      " 0.352 0.353 0.354 0.355 0.356 0.357 0.358 0.359 0.36  0.361 0.362 0.363\n",
      " 0.364 0.365 0.366 0.367 0.368 0.369 0.37  0.371 0.372 0.373 0.374 0.375\n",
      " 0.376 0.377 0.378 0.379 0.38  0.381 0.382 0.383 0.384 0.385 0.386 0.387\n",
      " 0.388 0.389 0.39  0.391 0.392 0.393 0.394 0.395 0.396 0.397 0.398 0.4\n",
      " 0.402 0.403 0.404 0.405 0.406 0.407 0.408 0.409 0.41  0.411 0.412 0.413\n",
      " 0.414 0.415 0.416 0.417 0.418 0.419 0.42  0.421 0.422 0.423 0.424 0.425\n",
      " 0.426 0.427 0.429 0.43  0.431 0.432 0.433 0.434 0.435 0.436 0.437 0.438\n",
      " 0.439 0.44  0.441 0.442 0.443 0.444 0.445 0.446 0.447 0.448 0.449 0.45\n",
      " 0.451 0.452 0.453 0.454 0.455 0.456 0.457 0.458 0.459 0.46  0.461 0.462\n",
      " 0.463 0.464 0.465 0.466 0.467 0.468 0.469 0.47  0.471 0.472 0.473 0.474\n",
      " 0.475 0.476 0.477 0.478 0.479 0.48  0.481 0.482 0.483 0.484 0.485 0.486\n",
      " 0.487 0.488 0.489 0.49  0.492 0.493 0.494 0.495 0.496 0.5   0.505 0.506\n",
      " 0.507 0.508 0.509 0.51  0.511 0.512 0.513 0.514 0.515 0.516 0.517 0.518\n",
      " 0.519 0.52  0.521 0.522 0.523 0.524 0.525 0.526 0.527 0.528 0.529 0.53\n",
      " 0.531 0.532 0.533 0.534 0.535 0.536 0.537 0.538 0.539 0.54  0.541 0.542\n",
      " 0.543 0.544 0.545 0.546 0.547 0.548 0.549 0.55  0.551 0.552 0.553 0.554\n",
      " 0.556 0.557 0.558 0.559 0.56  0.561 0.562 0.563 0.564 0.565 0.566 0.567\n",
      " 0.568 0.569 0.57  0.571 0.573 0.574 0.575 0.576 0.577 0.578 0.579 0.58\n",
      " 0.581 0.582 0.583 0.584 0.585 0.586 0.587 0.588 0.589 0.59  0.591 0.592\n",
      " 0.593 0.594 0.595 0.596 0.597 0.598 0.6   0.602 0.603 0.604 0.605 0.606\n",
      " 0.607 0.608 0.609 0.61  0.611 0.612 0.613 0.614 0.615 0.616 0.617 0.618\n",
      " 0.619 0.62  0.621 0.622 0.623 0.624 0.625 0.626 0.627 0.628 0.629 0.63\n",
      " 0.631 0.632 0.633 0.634 0.635 0.636 0.639 0.64  0.641 0.642 0.643 0.644\n",
      " 0.645 0.646 0.648 0.65  0.651 0.652 0.653 0.654 0.655 0.658 0.662 0.667\n",
      " 0.671 0.675 0.684   nan]\n"
     ]
    }
   ],
   "source": [
    "unique_fg_pct_home = data['FG_PCT_home'].unique()\n",
    "unique_fg_pct_home.sort()\n",
    "print(unique_fg_pct_home)"
   ]
  }
 ],
 "metadata": {
  "kernelspec": {
   "display_name": "Python 3",
   "language": "python",
   "name": "python3"
  },
  "language_info": {
   "codemirror_mode": {
    "name": "ipython",
    "version": 3
   },
   "file_extension": ".py",
   "mimetype": "text/x-python",
   "name": "python",
   "nbconvert_exporter": "python",
   "pygments_lexer": "ipython3",
   "version": "3.10.8"
  }
 },
 "nbformat": 4,
 "nbformat_minor": 5
}
