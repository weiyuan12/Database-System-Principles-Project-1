{
 "cells": [
  {
   "cell_type": "code",
   "execution_count": 19,
   "id": "fa6e9ac5",
   "metadata": {
    "scrolled": true
   },
   "outputs": [
    {
     "name": "stdout",
     "output_type": "stream",
     "text": [
      "  GAME_DATE_EST  TEAM_ID_home  PTS_home  FG_PCT_home  FT_PCT_home  \\\n",
      "0    22/12/2022    1610612740     126.0        0.484        0.926   \n",
      "1    22/12/2022    1610612762     120.0        0.488        0.952   \n",
      "2    21/12/2022    1610612739     114.0        0.482        0.786   \n",
      "3    21/12/2022    1610612755     113.0        0.441        0.909   \n",
      "4    21/12/2022    1610612737     108.0        0.429        1.000   \n",
      "\n",
      "   FG3_PCT_home  AST_home  REB_home  HOME_TEAM_WINS  \n",
      "0         0.382      25.0      46.0               1  \n",
      "1         0.457      16.0      40.0               1  \n",
      "2         0.313      22.0      37.0               1  \n",
      "3         0.297      27.0      49.0               1  \n",
      "4         0.378      22.0      47.0               0  \n"
     ]
    }
   ],
   "source": [
    "import pandas as pd\n",
    "\n",
    "\n",
    "data = pd.read_csv('data/games.txt', sep=\"\\t\", header=0)\n",
    "print(data.head(5))"
   ]
  },
  {
   "cell_type": "code",
   "execution_count": 8,
   "id": "da960c64",
   "metadata": {},
   "outputs": [
    {
     "name": "stdout",
     "output_type": "stream",
     "text": [
      "(26651, 9)\n"
     ]
    }
   ],
   "source": [
    "print(data.shape)"
   ]
  },
  {
   "cell_type": "code",
   "execution_count": 13,
   "id": "ca4032e0",
   "metadata": {},
   "outputs": [
    {
     "name": "stdout",
     "output_type": "stream",
     "text": [
      "GAME_DATE_EST      object\n",
      "TEAM_ID_home        int64\n",
      "PTS_home          float64\n",
      "FG_PCT_home       float64\n",
      "FT_PCT_home       float64\n",
      "FG3_PCT_home      float64\n",
      "AST_home          float64\n",
      "REB_home          float64\n",
      "HOME_TEAM_WINS      int64\n",
      "dtype: object\n"
     ]
    }
   ],
   "source": [
    "print(data.dtypes)"
   ]
  },
  {
   "cell_type": "code",
   "execution_count": 16,
   "id": "9f5de1f2",
   "metadata": {},
   "outputs": [
    {
     "name": "stdout",
     "output_type": "stream",
     "text": [
      "GAME_DATE_EST      0\n",
      "TEAM_ID_home       0\n",
      "PTS_home          99\n",
      "FG_PCT_home       99\n",
      "FT_PCT_home       99\n",
      "FG3_PCT_home      99\n",
      "AST_home          99\n",
      "REB_home          99\n",
      "HOME_TEAM_WINS     0\n",
      "dtype: int64\n"
     ]
    }
   ],
   "source": [
    "null_counts = data.isnull().sum()\n",
    "print(null_counts)"
   ]
  },
  {
   "cell_type": "code",
   "execution_count": 17,
   "id": "1c91ba74",
   "metadata": {},
   "outputs": [
    {
     "name": "stdout",
     "output_type": "stream",
     "text": [
      "Column GAME_DATE_EST: Range (1/1/2005, 9/9/2020)\n",
      "Column TEAM_ID_home: Range (1610612737, 1610612766)\n",
      "Column PTS_home: Range (36.0, 168.0)\n",
      "Column FG_PCT_home: Range (0.25, 0.684)\n",
      "Column FT_PCT_home: Range (0.143, 1.0)\n",
      "Column FG3_PCT_home: Range (0.0, 1.0)\n",
      "Column AST_home: Range (6.0, 50.0)\n",
      "Column REB_home: Range (15.0, 72.0)\n",
      "Column HOME_TEAM_WINS: Range (0, 1)\n"
     ]
    }
   ],
   "source": [
    "for column in data.columns:\n",
    "    column_min = data[column].min()\n",
    "    column_max = data[column].max()\n",
    "    print(f\"Column {column}: Range ({column_min}, {column_max})\")"
   ]
  },
  {
   "cell_type": "code",
   "execution_count": null,
   "id": "7986583b",
   "metadata": {},
   "outputs": [],
   "source": []
  }
 ],
 "metadata": {
  "kernelspec": {
   "display_name": "Python 3 (ipykernel)",
   "language": "python",
   "name": "python3"
  },
  "language_info": {
   "codemirror_mode": {
    "name": "ipython",
    "version": 3
   },
   "file_extension": ".py",
   "mimetype": "text/x-python",
   "name": "python",
   "nbconvert_exporter": "python",
   "pygments_lexer": "ipython3",
   "version": "3.9.7"
  }
 },
 "nbformat": 4,
 "nbformat_minor": 5
}
